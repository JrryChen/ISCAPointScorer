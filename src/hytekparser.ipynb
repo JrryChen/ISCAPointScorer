{
 "cells": [
  {
   "cell_type": "code",
   "id": "initial_id",
   "metadata": {
    "collapsed": true,
    "ExecuteTime": {
     "end_time": "2025-04-22T12:55:10.413857Z",
     "start_time": "2025-04-22T12:55:10.410709Z"
    }
   },
   "source": "from hytek_parser import hy3_parser",
   "outputs": [],
   "execution_count": 6
  },
  {
   "metadata": {
    "ExecuteTime": {
     "end_time": "2025-04-22T12:55:11.800024Z",
     "start_time": "2025-04-22T12:55:11.626995Z"
    }
   },
   "cell_type": "code",
   "source": [
    "file_path = \"../SampleMeetResults/Meet Results-PCS Spring Home Meet 2025-22Mar2025-002.hy3\"\n",
    "\n",
    "parsed_file = hy3_parser.parse_hy3(file_path)\n",
    "print(parsed_file)"
   ],
   "id": "22c7a0135a7e6ca4",
   "outputs": [
    {
     "name": "stdout",
     "output_type": "stream",
     "text": [
      "Invalid line code: B3\n"
     ]
    },
    {
     "ename": "RuntimeError",
     "evalue": "Exception while parsing, please open an issue with full traceback at https://github.com/SwimComm/hytek-parser/issues/new/choose",
     "output_type": "error",
     "traceback": [
      "\u001B[31m---------------------------------------------------------------------------\u001B[39m",
      "\u001B[31mValueError\u001B[39m                                Traceback (most recent call last)",
      "\u001B[36mFile \u001B[39m\u001B[32m~\\OneDrive\\Documents\\ISCAClient\\ISCAPointScorer\\.venv\\Lib\\site-packages\\hytek_parser\\hy3_parser.py:62\u001B[39m, in \u001B[36mparse_hy3\u001B[39m\u001B[34m(file, validate_checksums, default_country)\u001B[39m\n\u001B[32m     60\u001B[39m         \u001B[38;5;28;01mcontinue\u001B[39;00m\n\u001B[32m---> \u001B[39m\u001B[32m62\u001B[39m     parsed_file = \u001B[43mline_parser\u001B[49m\u001B[43m(\u001B[49m\u001B[43mline\u001B[49m\u001B[43m,\u001B[49m\u001B[43m \u001B[49m\u001B[43mparsed_file\u001B[49m\u001B[43m,\u001B[49m\u001B[43m \u001B[49m\u001B[43mopts\u001B[49m\u001B[43m)\u001B[49m\n\u001B[32m     63\u001B[39m \u001B[38;5;28;01mexcept\u001B[39;00m \u001B[38;5;167;01mException\u001B[39;00m \u001B[38;5;28;01mas\u001B[39;00m e:\n",
      "\u001B[36mFile \u001B[39m\u001B[32m~\\OneDrive\\Documents\\ISCAClient\\ISCAPointScorer\\.venv\\Lib\\site-packages\\hytek_parser\\hy3\\line_parsers\\d_swimmer_parsers.py:28\u001B[39m, in \u001B[36md1_parser\u001B[39m\u001B[34m(line, file, opts)\u001B[39m\n\u001B[32m     26\u001B[39m     swimmer.team_id = \u001B[38;5;28mint\u001B[39m(team_id)\n\u001B[32m---> \u001B[39m\u001B[32m28\u001B[39m swimmer.date_of_birth = \u001B[43mdatetime\u001B[49m\u001B[43m.\u001B[49m\u001B[43mstrptime\u001B[49m\u001B[43m(\u001B[49m\u001B[43mextract\u001B[49m\u001B[43m(\u001B[49m\u001B[43mline\u001B[49m\u001B[43m,\u001B[49m\u001B[43m \u001B[49m\u001B[32;43m89\u001B[39;49m\u001B[43m,\u001B[49m\u001B[43m \u001B[49m\u001B[32;43m8\u001B[39;49m\u001B[43m)\u001B[49m\u001B[43m,\u001B[49m\u001B[43m \u001B[49m\u001B[33;43m\"\u001B[39;49m\u001B[33;43m%\u001B[39;49m\u001B[33;43mm\u001B[39;49m\u001B[38;5;132;43;01m%d\u001B[39;49;00m\u001B[33;43m%\u001B[39;49m\u001B[33;43mY\u001B[39;49m\u001B[33;43m\"\u001B[39;49m\u001B[43m)\u001B[49m.date()\n\u001B[32m     29\u001B[39m swimmer.age = \u001B[38;5;28mint\u001B[39m(extract(line, \u001B[32m97\u001B[39m, \u001B[32m3\u001B[39m))\n",
      "\u001B[36mFile \u001B[39m\u001B[32m~\\AppData\\Local\\Programs\\Python\\Python313\\Lib\\_strptime.py:676\u001B[39m, in \u001B[36m_strptime_datetime\u001B[39m\u001B[34m(cls, data_string, format)\u001B[39m\n\u001B[32m    674\u001B[39m \u001B[38;5;250m\u001B[39m\u001B[33;03m\"\"\"Return a class cls instance based on the input string and the\u001B[39;00m\n\u001B[32m    675\u001B[39m \u001B[33;03mformat string.\"\"\"\u001B[39;00m\n\u001B[32m--> \u001B[39m\u001B[32m676\u001B[39m tt, fraction, gmtoff_fraction = \u001B[43m_strptime\u001B[49m\u001B[43m(\u001B[49m\u001B[43mdata_string\u001B[49m\u001B[43m,\u001B[49m\u001B[43m \u001B[49m\u001B[38;5;28;43mformat\u001B[39;49m\u001B[43m)\u001B[49m\n\u001B[32m    677\u001B[39m tzname, gmtoff = tt[-\u001B[32m2\u001B[39m:]\n",
      "\u001B[36mFile \u001B[39m\u001B[32m~\\AppData\\Local\\Programs\\Python\\Python313\\Lib\\_strptime.py:455\u001B[39m, in \u001B[36m_strptime\u001B[39m\u001B[34m(data_string, format)\u001B[39m\n\u001B[32m    454\u001B[39m \u001B[38;5;28;01mif\u001B[39;00m \u001B[38;5;129;01mnot\u001B[39;00m found:\n\u001B[32m--> \u001B[39m\u001B[32m455\u001B[39m     \u001B[38;5;28;01mraise\u001B[39;00m \u001B[38;5;167;01mValueError\u001B[39;00m(\u001B[33m\"\u001B[39m\u001B[33mtime data \u001B[39m\u001B[38;5;132;01m%r\u001B[39;00m\u001B[33m does not match format \u001B[39m\u001B[38;5;132;01m%r\u001B[39;00m\u001B[33m\"\u001B[39m %\n\u001B[32m    456\u001B[39m                      (data_string, \u001B[38;5;28mformat\u001B[39m))\n\u001B[32m    457\u001B[39m \u001B[38;5;28;01mif\u001B[39;00m \u001B[38;5;28mlen\u001B[39m(data_string) != found.end():\n",
      "\u001B[31mValueError\u001B[39m: time data '' does not match format '%m%d%Y'",
      "\nThe above exception was the direct cause of the following exception:\n",
      "\u001B[31mRuntimeError\u001B[39m                              Traceback (most recent call last)",
      "\u001B[36mCell\u001B[39m\u001B[36m \u001B[39m\u001B[32mIn[7]\u001B[39m\u001B[32m, line 3\u001B[39m\n\u001B[32m      1\u001B[39m file_path = \u001B[33m\"\u001B[39m\u001B[33m../SampleMeetResults/Meet Results-PCS Spring Home Meet 2025-22Mar2025-002.hy3\u001B[39m\u001B[33m\"\u001B[39m\n\u001B[32m----> \u001B[39m\u001B[32m3\u001B[39m parsed_file = \u001B[43mhy3_parser\u001B[49m\u001B[43m.\u001B[49m\u001B[43mparse_hy3\u001B[49m\u001B[43m(\u001B[49m\u001B[43mfile_path\u001B[49m\u001B[43m)\u001B[49m\n\u001B[32m      4\u001B[39m \u001B[38;5;28mprint\u001B[39m(parsed_file)\n",
      "\u001B[36mFile \u001B[39m\u001B[32m~\\OneDrive\\Documents\\ISCAClient\\ISCAPointScorer\\.venv\\Lib\\site-packages\\hytek_parser\\hy3_parser.py:65\u001B[39m, in \u001B[36mparse_hy3\u001B[39m\u001B[34m(file, validate_checksums, default_country)\u001B[39m\n\u001B[32m     63\u001B[39m     \u001B[38;5;28;01mexcept\u001B[39;00m \u001B[38;5;167;01mException\u001B[39;00m \u001B[38;5;28;01mas\u001B[39;00m e:\n\u001B[32m     64\u001B[39m         msg = \u001B[33m\"\u001B[39m\u001B[33mException while parsing, please open an issue with full traceback at https://github.com/SwimComm/hytek-parser/issues/new/choose\u001B[39m\u001B[33m\"\u001B[39m\n\u001B[32m---> \u001B[39m\u001B[32m65\u001B[39m         \u001B[38;5;28;01mraise\u001B[39;00m \u001B[38;5;167;01mRuntimeError\u001B[39;00m(msg) \u001B[38;5;28;01mfrom\u001B[39;00m\u001B[38;5;250m \u001B[39m\u001B[34;01me\u001B[39;00m  \u001B[38;5;66;03m# TODO: actual error handling\u001B[39;00m\n\u001B[32m     67\u001B[39m \u001B[38;5;66;03m# logger.success(\u001B[39;00m\n\u001B[32m     68\u001B[39m \u001B[38;5;66;03m#     f\"Parse completed with {warnings} warning(s) and {errors} error(s).\"\u001B[39;00m\n\u001B[32m     69\u001B[39m \u001B[38;5;66;03m# )\u001B[39;00m\n\u001B[32m     70\u001B[39m \u001B[38;5;28;01mreturn\u001B[39;00m parsed_file\n",
      "\u001B[31mRuntimeError\u001B[39m: Exception while parsing, please open an issue with full traceback at https://github.com/SwimComm/hytek-parser/issues/new/choose"
     ]
    }
   ],
   "execution_count": 7
  }
 ],
 "metadata": {
  "kernelspec": {
   "display_name": "Python 3",
   "language": "python",
   "name": "python3"
  },
  "language_info": {
   "codemirror_mode": {
    "name": "ipython",
    "version": 2
   },
   "file_extension": ".py",
   "mimetype": "text/x-python",
   "name": "python",
   "nbconvert_exporter": "python",
   "pygments_lexer": "ipython2",
   "version": "2.7.6"
  }
 },
 "nbformat": 4,
 "nbformat_minor": 5
}
