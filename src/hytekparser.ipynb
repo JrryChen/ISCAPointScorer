{
 "cells": [
  {
   "cell_type": "code",
   "id": "initial_id",
   "metadata": {
    "collapsed": true,
    "ExecuteTime": {
     "end_time": "2025-04-21T21:48:08.445450Z",
     "start_time": "2025-04-21T21:48:08.366031Z"
    }
   },
   "source": "import hytek_parser as hyp",
   "outputs": [],
   "execution_count": 1
  },
  {
   "metadata": {
    "ExecuteTime": {
     "end_time": "2025-04-21T21:48:09.096139Z",
     "start_time": "2025-04-21T21:48:09.092699Z"
    }
   },
   "cell_type": "code",
   "source": "file_path = \"../SampleMeetResults/Meet Results-PCS Spring Home Meet 2025-22Mar2025-002.hy3\"\n",
   "id": "22c7a0135a7e6ca4",
   "outputs": [],
   "execution_count": 2
  }
 ],
 "metadata": {
  "kernelspec": {
   "display_name": "Python 3",
   "language": "python",
   "name": "python3"
  },
  "language_info": {
   "codemirror_mode": {
    "name": "ipython",
    "version": 2
   },
   "file_extension": ".py",
   "mimetype": "text/x-python",
   "name": "python",
   "nbconvert_exporter": "python",
   "pygments_lexer": "ipython2",
   "version": "2.7.6"
  }
 },
 "nbformat": 4,
 "nbformat_minor": 5
}
