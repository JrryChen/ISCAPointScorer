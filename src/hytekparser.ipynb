{
 "cells": [
  {
   "cell_type": "code",
   "execution_count": null,
   "id": "initial_id",
   "metadata": {
    "ExecuteTime": {
     "end_time": "2025-04-22T12:55:10.413857Z",
     "start_time": "2025-04-22T12:55:10.410709Z"
    },
    "collapsed": true
   },
   "outputs": [],
   "source": [
    "from hytek_parser import hy3_parser"
   ]
  },
  {
   "cell_type": "code",
   "execution_count": 7,
   "id": "22c7a0135a7e6ca4",
   "metadata": {
    "ExecuteTime": {
     "end_time": "2025-04-22T12:55:11.800024Z",
     "start_time": "2025-04-22T12:55:11.626995Z"
    }
   },
   "outputs": [
    {
     "name": "stdout",
     "output_type": "stream",
     "text": [
      "Invalid line code: B3\n"
     ]
    },
    {
     "ename": "RuntimeError",
     "evalue": "Exception while parsing, please open an issue with full traceback at https://github.com/SwimComm/hytek-parser/issues/new/choose",
     "output_type": "error",
     "traceback": [
      "\u001b[31m---------------------------------------------------------------------------\u001b[39m",
      "\u001b[31mValueError\u001b[39m                                Traceback (most recent call last)",
      "\u001b[36mFile \u001b[39m\u001b[32m~\\OneDrive\\Documents\\ISCAClient\\ISCAPointScorer\\.venv\\Lib\\site-packages\\hytek_parser\\hy3_parser.py:62\u001b[39m, in \u001b[36mparse_hy3\u001b[39m\u001b[34m(file, validate_checksums, default_country)\u001b[39m\n\u001b[32m     60\u001b[39m         \u001b[38;5;28;01mcontinue\u001b[39;00m\n\u001b[32m---> \u001b[39m\u001b[32m62\u001b[39m     parsed_file = \u001b[43mline_parser\u001b[49m\u001b[43m(\u001b[49m\u001b[43mline\u001b[49m\u001b[43m,\u001b[49m\u001b[43m \u001b[49m\u001b[43mparsed_file\u001b[49m\u001b[43m,\u001b[49m\u001b[43m \u001b[49m\u001b[43mopts\u001b[49m\u001b[43m)\u001b[49m\n\u001b[32m     63\u001b[39m \u001b[38;5;28;01mexcept\u001b[39;00m \u001b[38;5;167;01mException\u001b[39;00m \u001b[38;5;28;01mas\u001b[39;00m e:\n",
      "\u001b[36mFile \u001b[39m\u001b[32m~\\OneDrive\\Documents\\ISCAClient\\ISCAPointScorer\\.venv\\Lib\\site-packages\\hytek_parser\\hy3\\line_parsers\\d_swimmer_parsers.py:28\u001b[39m, in \u001b[36md1_parser\u001b[39m\u001b[34m(line, file, opts)\u001b[39m\n\u001b[32m     26\u001b[39m     swimmer.team_id = \u001b[38;5;28mint\u001b[39m(team_id)\n\u001b[32m---> \u001b[39m\u001b[32m28\u001b[39m swimmer.date_of_birth = \u001b[43mdatetime\u001b[49m\u001b[43m.\u001b[49m\u001b[43mstrptime\u001b[49m\u001b[43m(\u001b[49m\u001b[43mextract\u001b[49m\u001b[43m(\u001b[49m\u001b[43mline\u001b[49m\u001b[43m,\u001b[49m\u001b[43m \u001b[49m\u001b[32;43m89\u001b[39;49m\u001b[43m,\u001b[49m\u001b[43m \u001b[49m\u001b[32;43m8\u001b[39;49m\u001b[43m)\u001b[49m\u001b[43m,\u001b[49m\u001b[43m \u001b[49m\u001b[33;43m\"\u001b[39;49m\u001b[33;43m%\u001b[39;49m\u001b[33;43mm\u001b[39;49m\u001b[38;5;132;43;01m%d\u001b[39;49;00m\u001b[33;43m%\u001b[39;49m\u001b[33;43mY\u001b[39;49m\u001b[33;43m\"\u001b[39;49m\u001b[43m)\u001b[49m.date()\n\u001b[32m     29\u001b[39m swimmer.age = \u001b[38;5;28mint\u001b[39m(extract(line, \u001b[32m97\u001b[39m, \u001b[32m3\u001b[39m))\n",
      "\u001b[36mFile \u001b[39m\u001b[32m~\\AppData\\Local\\Programs\\Python\\Python313\\Lib\\_strptime.py:676\u001b[39m, in \u001b[36m_strptime_datetime\u001b[39m\u001b[34m(cls, data_string, format)\u001b[39m\n\u001b[32m    674\u001b[39m \u001b[38;5;250m\u001b[39m\u001b[33;03m\"\"\"Return a class cls instance based on the input string and the\u001b[39;00m\n\u001b[32m    675\u001b[39m \u001b[33;03mformat string.\"\"\"\u001b[39;00m\n\u001b[32m--> \u001b[39m\u001b[32m676\u001b[39m tt, fraction, gmtoff_fraction = \u001b[43m_strptime\u001b[49m\u001b[43m(\u001b[49m\u001b[43mdata_string\u001b[49m\u001b[43m,\u001b[49m\u001b[43m \u001b[49m\u001b[38;5;28;43mformat\u001b[39;49m\u001b[43m)\u001b[49m\n\u001b[32m    677\u001b[39m tzname, gmtoff = tt[-\u001b[32m2\u001b[39m:]\n",
      "\u001b[36mFile \u001b[39m\u001b[32m~\\AppData\\Local\\Programs\\Python\\Python313\\Lib\\_strptime.py:455\u001b[39m, in \u001b[36m_strptime\u001b[39m\u001b[34m(data_string, format)\u001b[39m\n\u001b[32m    454\u001b[39m \u001b[38;5;28;01mif\u001b[39;00m \u001b[38;5;129;01mnot\u001b[39;00m found:\n\u001b[32m--> \u001b[39m\u001b[32m455\u001b[39m     \u001b[38;5;28;01mraise\u001b[39;00m \u001b[38;5;167;01mValueError\u001b[39;00m(\u001b[33m\"\u001b[39m\u001b[33mtime data \u001b[39m\u001b[38;5;132;01m%r\u001b[39;00m\u001b[33m does not match format \u001b[39m\u001b[38;5;132;01m%r\u001b[39;00m\u001b[33m\"\u001b[39m %\n\u001b[32m    456\u001b[39m                      (data_string, \u001b[38;5;28mformat\u001b[39m))\n\u001b[32m    457\u001b[39m \u001b[38;5;28;01mif\u001b[39;00m \u001b[38;5;28mlen\u001b[39m(data_string) != found.end():\n",
      "\u001b[31mValueError\u001b[39m: time data '' does not match format '%m%d%Y'",
      "\nThe above exception was the direct cause of the following exception:\n",
      "\u001b[31mRuntimeError\u001b[39m                              Traceback (most recent call last)",
      "\u001b[36mCell\u001b[39m\u001b[36m \u001b[39m\u001b[32mIn[7]\u001b[39m\u001b[32m, line 3\u001b[39m\n\u001b[32m      1\u001b[39m file_path = \u001b[33m\"\u001b[39m\u001b[33m../SampleMeetResults/Meet Results-PCS Spring Home Meet 2025-22Mar2025-002.hy3\u001b[39m\u001b[33m\"\u001b[39m\n\u001b[32m----> \u001b[39m\u001b[32m3\u001b[39m parsed_file = \u001b[43mhy3_parser\u001b[49m\u001b[43m.\u001b[49m\u001b[43mparse_hy3\u001b[49m\u001b[43m(\u001b[49m\u001b[43mfile_path\u001b[49m\u001b[43m)\u001b[49m\n\u001b[32m      4\u001b[39m \u001b[38;5;28mprint\u001b[39m(parsed_file)\n",
      "\u001b[36mFile \u001b[39m\u001b[32m~\\OneDrive\\Documents\\ISCAClient\\ISCAPointScorer\\.venv\\Lib\\site-packages\\hytek_parser\\hy3_parser.py:65\u001b[39m, in \u001b[36mparse_hy3\u001b[39m\u001b[34m(file, validate_checksums, default_country)\u001b[39m\n\u001b[32m     63\u001b[39m     \u001b[38;5;28;01mexcept\u001b[39;00m \u001b[38;5;167;01mException\u001b[39;00m \u001b[38;5;28;01mas\u001b[39;00m e:\n\u001b[32m     64\u001b[39m         msg = \u001b[33m\"\u001b[39m\u001b[33mException while parsing, please open an issue with full traceback at https://github.com/SwimComm/hytek-parser/issues/new/choose\u001b[39m\u001b[33m\"\u001b[39m\n\u001b[32m---> \u001b[39m\u001b[32m65\u001b[39m         \u001b[38;5;28;01mraise\u001b[39;00m \u001b[38;5;167;01mRuntimeError\u001b[39;00m(msg) \u001b[38;5;28;01mfrom\u001b[39;00m\u001b[38;5;250m \u001b[39m\u001b[34;01me\u001b[39;00m  \u001b[38;5;66;03m# TODO: actual error handling\u001b[39;00m\n\u001b[32m     67\u001b[39m \u001b[38;5;66;03m# logger.success(\u001b[39;00m\n\u001b[32m     68\u001b[39m \u001b[38;5;66;03m#     f\"Parse completed with {warnings} warning(s) and {errors} error(s).\"\u001b[39;00m\n\u001b[32m     69\u001b[39m \u001b[38;5;66;03m# )\u001b[39;00m\n\u001b[32m     70\u001b[39m \u001b[38;5;28;01mreturn\u001b[39;00m parsed_file\n",
      "\u001b[31mRuntimeError\u001b[39m: Exception while parsing, please open an issue with full traceback at https://github.com/SwimComm/hytek-parser/issues/new/choose"
     ]
    }
   ],
   "source": [
    "file_path = \"../SampleMeetResults/Meet Results-PCS Spring Home Meet 2025-22Mar2025-002.hy3\"\n",
    "\n",
    "parsed_file = hy3_parser.parse_hy3(file_path)\n",
    "print(parsed_file)"
   ]
  }
 ],
 "metadata": {
  "kernelspec": {
   "display_name": "Python 3",
   "language": "python",
   "name": "python3"
  },
  "language_info": {
   "codemirror_mode": {
    "name": "ipython",
    "version": 2
   },
   "file_extension": ".py",
   "mimetype": "text/x-python",
   "name": "python",
   "nbconvert_exporter": "python",
   "pygments_lexer": "ipython2",
   "version": "2.7.6"
  }
 },
 "nbformat": 4,
 "nbformat_minor": 5
}
